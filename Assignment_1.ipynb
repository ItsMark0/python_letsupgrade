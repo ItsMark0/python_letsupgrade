{
  "nbformat": 4,
  "nbformat_minor": 0,
  "metadata": {
    "colab": {
      "name": "Assignment_1.ipynb",
      "provenance": [],
      "authorship_tag": "ABX9TyOm1AikQZOI54kMUI8fxtOt",
      "include_colab_link": true
    },
    "kernelspec": {
      "name": "python3",
      "display_name": "Python 3"
    }
  },
  "cells": [
    {
      "cell_type": "markdown",
      "metadata": {
        "id": "view-in-github",
        "colab_type": "text"
      },
      "source": [
        "<a href=\"https://colab.research.google.com/github/ItsMark0/python_letsupgrade/blob/main/Assignment_1.ipynb\" target=\"_parent\"><img src=\"https://colab.research.google.com/assets/colab-badge.svg\" alt=\"Open In Colab\"/></a>"
      ]
    },
    {
      "cell_type": "markdown",
      "metadata": {
        "id": "2XHUcPHzBP3u"
      },
      "source": [
        "#Experiment with 5 List's In-built functions"
      ]
    },
    {
      "cell_type": "markdown",
      "metadata": {
        "id": "K_yRNChlBXDP"
      },
      "source": [
        "###creation"
      ]
    },
    {
      "cell_type": "code",
      "metadata": {
        "colab": {
          "base_uri": "https://localhost:8080/"
        },
        "id": "SGWHHSFsBetk",
        "outputId": "4d222947-8d95-4abf-c4e0-01bf6c8b27e0"
      },
      "source": [
        "lst = [11,25,36,55,9.9,55.6,['abc','xyz'],78]\r\n",
        "print(lst)"
      ],
      "execution_count": 7,
      "outputs": [
        {
          "output_type": "stream",
          "text": [
            "[11, 25, 36, 55, 9.9, 55.6, ['abc', 'xyz'], 78]\n"
          ],
          "name": "stdout"
        }
      ]
    },
    {
      "cell_type": "markdown",
      "metadata": {
        "id": "EZr6ZfoRCEM0"
      },
      "source": [
        "###index"
      ]
    },
    {
      "cell_type": "code",
      "metadata": {
        "colab": {
          "base_uri": "https://localhost:8080/"
        },
        "id": "7cK2egDfCKEz",
        "outputId": "e8274579-cf50-499c-94d7-2ffec2089974"
      },
      "source": [
        "lst[6]"
      ],
      "execution_count": 2,
      "outputs": [
        {
          "output_type": "execute_result",
          "data": {
            "text/plain": [
              "['abc', 'xyz']"
            ]
          },
          "metadata": {
            "tags": []
          },
          "execution_count": 2
        }
      ]
    },
    {
      "cell_type": "markdown",
      "metadata": {
        "id": "PZ6Z4yMYCTUM"
      },
      "source": [
        "###appned"
      ]
    },
    {
      "cell_type": "code",
      "metadata": {
        "colab": {
          "base_uri": "https://localhost:8080/"
        },
        "id": "_7Ybi6M8CYBc",
        "outputId": "f1c89d9b-cc94-4373-df15-6d1bf0fa44b9"
      },
      "source": [
        "lst.append('sahaj')\r\n",
        "print(lst)"
      ],
      "execution_count": 8,
      "outputs": [
        {
          "output_type": "stream",
          "text": [
            "[11, 25, 36, 55, 9.9, 55.6, ['abc', 'xyz'], 78, 'sahaj']\n"
          ],
          "name": "stdout"
        }
      ]
    },
    {
      "cell_type": "markdown",
      "metadata": {
        "id": "QOnjiLl_C2Cw"
      },
      "source": [
        "###pop"
      ]
    },
    {
      "cell_type": "code",
      "metadata": {
        "colab": {
          "base_uri": "https://localhost:8080/"
        },
        "id": "g948AZ6HC4ff",
        "outputId": "dc36269f-1193-4fcd-d364-5843f7a23b3a"
      },
      "source": [
        "lst.pop(4)\r\n",
        "print(lst)"
      ],
      "execution_count": 9,
      "outputs": [
        {
          "output_type": "stream",
          "text": [
            "[11, 25, 36, 55, 55.6, ['abc', 'xyz'], 78, 'sahaj']\n"
          ],
          "name": "stdout"
        }
      ]
    },
    {
      "cell_type": "markdown",
      "metadata": {
        "id": "vVYxxqLGDGoD"
      },
      "source": [
        "###insert"
      ]
    },
    {
      "cell_type": "code",
      "metadata": {
        "colab": {
          "base_uri": "https://localhost:8080/"
        },
        "id": "5XG2AJxEDJPf",
        "outputId": "b6683304-ba4c-4e6d-ec18-29543852c9fc"
      },
      "source": [
        "lst.insert(2,\"Harshit\")\r\n",
        "print(lst)"
      ],
      "execution_count": 10,
      "outputs": [
        {
          "output_type": "stream",
          "text": [
            "[11, 25, 'Harshit', 36, 55, 55.6, ['abc', 'xyz'], 78, 'sahaj']\n"
          ],
          "name": "stdout"
        }
      ]
    },
    {
      "cell_type": "markdown",
      "metadata": {
        "id": "-ljvLuWNDV9R"
      },
      "source": [
        "##remove"
      ]
    },
    {
      "cell_type": "code",
      "metadata": {
        "colab": {
          "base_uri": "https://localhost:8080/"
        },
        "id": "Bk0VycybDbpx",
        "outputId": "29d94b2b-447c-44a7-9c50-bd0202f7566c"
      },
      "source": [
        "lst.remove(25)\r\n",
        "print(lst)"
      ],
      "execution_count": 11,
      "outputs": [
        {
          "output_type": "stream",
          "text": [
            "[11, 'Harshit', 36, 55, 55.6, ['abc', 'xyz'], 78, 'sahaj']\n"
          ],
          "name": "stdout"
        }
      ]
    },
    {
      "cell_type": "markdown",
      "metadata": {
        "id": "Lysa2N5DDo0p"
      },
      "source": [
        "###reverse"
      ]
    },
    {
      "cell_type": "code",
      "metadata": {
        "colab": {
          "base_uri": "https://localhost:8080/"
        },
        "id": "wGf8GmvpDwWB",
        "outputId": "2396c944-b8e2-4861-baa3-63cdb4759aaa"
      },
      "source": [
        "lst.reverse()\r\n",
        "print(lst)"
      ],
      "execution_count": 12,
      "outputs": [
        {
          "output_type": "stream",
          "text": [
            "['sahaj', 78, ['abc', 'xyz'], 55.6, 55, 36, 'Harshit', 11]\n"
          ],
          "name": "stdout"
        }
      ]
    },
    {
      "cell_type": "markdown",
      "metadata": {
        "id": "eBqxe_J0D3Ro"
      },
      "source": [
        "###clear"
      ]
    },
    {
      "cell_type": "code",
      "metadata": {
        "colab": {
          "base_uri": "https://localhost:8080/"
        },
        "id": "16WUBsKQD44z",
        "outputId": "07e68b22-febf-40cf-ef0c-8c2293ca6806"
      },
      "source": [
        "lst.clear()\r\n",
        "print(lst)"
      ],
      "execution_count": 13,
      "outputs": [
        {
          "output_type": "stream",
          "text": [
            "[]\n"
          ],
          "name": "stdout"
        }
      ]
    },
    {
      "cell_type": "markdown",
      "metadata": {
        "id": "mVhXjfGdD_pd"
      },
      "source": [
        "#Experiment with 5 Dictionary’s In-Built Functions"
      ]
    },
    {
      "cell_type": "markdown",
      "metadata": {
        "id": "KA9rIjmzEFzK"
      },
      "source": [
        "###creation"
      ]
    },
    {
      "cell_type": "code",
      "metadata": {
        "id": "v_SFRTy3ELpH"
      },
      "source": [
        "dic = { \"Name\":'Arun', \"id\":05 , \"branch\":'BCA' , \"age\":20 , \"location\":'Lucknow'} \r\n",
        "print(dic)"
      ],
      "execution_count": null,
      "outputs": []
    },
    {
      "cell_type": "markdown",
      "metadata": {
        "id": "RF_pWn3REcey"
      },
      "source": [
        "###Keys"
      ]
    },
    {
      "cell_type": "code",
      "metadata": {
        "id": "IVqQh3eLEf0_"
      },
      "source": [
        "dic.keys()\r\n"
      ],
      "execution_count": null,
      "outputs": []
    },
    {
      "cell_type": "markdown",
      "metadata": {
        "id": "eAFdNgbjEstA"
      },
      "source": [
        "###items"
      ]
    },
    {
      "cell_type": "code",
      "metadata": {
        "id": "0Pzknme8Ewh1"
      },
      "source": [
        "dic.items()"
      ],
      "execution_count": null,
      "outputs": []
    },
    {
      "cell_type": "markdown",
      "metadata": {
        "id": "FK6moDStE07U"
      },
      "source": [
        "###pop"
      ]
    },
    {
      "cell_type": "code",
      "metadata": {
        "colab": {
          "base_uri": "https://localhost:8080/"
        },
        "id": "fab2AstpE4JW",
        "outputId": "4755a7e3-f417-412d-b101-f148e32dbb6c"
      },
      "source": [
        "dic.pop(\"age\")\r\n",
        "print(dic)"
      ],
      "execution_count": 15,
      "outputs": [
        {
          "output_type": "stream",
          "text": [
            "{'Name': 'Harsh', 'id': 20, 'branch': 'BCA', 'location': 'Lucknow'}\n"
          ],
          "name": "stdout"
        }
      ]
    },
    {
      "cell_type": "markdown",
      "metadata": {
        "id": "ieSepdTuFJdZ"
      },
      "source": [
        "###update"
      ]
    },
    {
      "cell_type": "code",
      "metadata": {
        "id": "nXChXgJCFPP_"
      },
      "source": [
        "dic.update({\"year\":'3rd yr'})\r\n",
        "print(dic)"
      ],
      "execution_count": null,
      "outputs": []
    },
    {
      "cell_type": "markdown",
      "metadata": {
        "id": "HorlJzL2FUba"
      },
      "source": [
        "###get"
      ]
    },
    {
      "cell_type": "code",
      "metadata": {
        "id": "apO0rDIHFYMH"
      },
      "source": [
        "dic.get('location')"
      ],
      "execution_count": null,
      "outputs": []
    },
    {
      "cell_type": "markdown",
      "metadata": {
        "id": "4PPR8lETFh55"
      },
      "source": [
        "###values"
      ]
    },
    {
      "cell_type": "code",
      "metadata": {
        "id": "zetgwR2mFkl0"
      },
      "source": [
        "dic.values()"
      ],
      "execution_count": null,
      "outputs": []
    },
    {
      "cell_type": "markdown",
      "metadata": {
        "id": "-aXDynigFq24"
      },
      "source": [
        "###clear"
      ]
    },
    {
      "cell_type": "code",
      "metadata": {
        "colab": {
          "base_uri": "https://localhost:8080/"
        },
        "id": "MwMp8JLzFt-M",
        "outputId": "6fbe07d4-296d-4a73-93db-fc7d9b216cbf"
      },
      "source": [
        "dic.clear()\r\n",
        "print(dic)"
      ],
      "execution_count": 16,
      "outputs": [
        {
          "output_type": "stream",
          "text": [
            "{}\n"
          ],
          "name": "stdout"
        }
      ]
    }
  ]
}