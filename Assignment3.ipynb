{
  "nbformat": 4,
  "nbformat_minor": 0,
  "metadata": {
    "colab": {
      "name": "Assignment3.ipynb",
      "provenance": [],
      "authorship_tag": "ABX9TyPyd38mTDixfsQ9x+7B8NB+",
      "include_colab_link": true
    },
    "kernelspec": {
      "name": "python3",
      "display_name": "Python 3"
    }
  },
  "cells": [
    {
      "cell_type": "markdown",
      "metadata": {
        "id": "view-in-github",
        "colab_type": "text"
      },
      "source": [
        "<a href=\"https://colab.research.google.com/github/ItsMark0/python_letsupgrade/blob/main/Assignment3.ipynb\" target=\"_parent\"><img src=\"https://colab.research.google.com/assets/colab-badge.svg\" alt=\"Open In Colab\"/></a>"
      ]
    },
    {
      "cell_type": "markdown",
      "metadata": {
        "id": "dtQ-IfrJqULn"
      },
      "source": [
        "#Question 1"
      ]
    },
    {
      "cell_type": "markdown",
      "metadata": {
        "id": "dHd21_6TqayE"
      },
      "source": [
        "###Write a function in Python to check whether a number is Prime or not."
      ]
    },
    {
      "cell_type": "code",
      "metadata": {
        "id": "TK037MzfqiM8"
      },
      "source": [
        "def chk_prime(n):\r\n",
        "  f=0 \r\n",
        "  \r\n",
        "  for i in range(2,int(n/2+1)):\r\n",
        "    if n%i==0:\r\n",
        "      f=1\r\n",
        "      break\r\n",
        "\r\n",
        "  if f==1:\r\n",
        "    return False\r\n",
        "  else:\r\n",
        "    return True"
      ],
      "execution_count": 1,
      "outputs": []
    },
    {
      "cell_type": "code",
      "metadata": {
        "colab": {
          "base_uri": "https://localhost:8080/"
        },
        "id": "WGb9H6cgqz3n",
        "outputId": "92a2e444-d9cd-4f50-e7b8-91e5c890f107"
      },
      "source": [
        "chk_prime(int(input(\"Enter a number o be checked \\t\")))"
      ],
      "execution_count": 2,
      "outputs": [
        {
          "output_type": "stream",
          "text": [
            "Enter a number o be checked \t34\n"
          ],
          "name": "stdout"
        },
        {
          "output_type": "execute_result",
          "data": {
            "text/plain": [
              "False"
            ]
          },
          "metadata": {
            "tags": []
          },
          "execution_count": 2
        }
      ]
    }
  ]
}