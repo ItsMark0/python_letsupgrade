{
  "nbformat": 4,
  "nbformat_minor": 0,
  "metadata": {
    "colab": {
      "name": "Assignment_2.ipynb",
      "provenance": [],
      "authorship_tag": "ABX9TyNjq4iN1CivdllEFJpLfTVY",
      "include_colab_link": true
    },
    "kernelspec": {
      "name": "python3",
      "display_name": "Python 3"
    }
  },
  "cells": [
    {
      "cell_type": "markdown",
      "metadata": {
        "id": "view-in-github",
        "colab_type": "text"
      },
      "source": [
        "<a href=\"https://colab.research.google.com/github/ItsMark0/python_letsupgrade/blob/main/Assignment_2.ipynb\" target=\"_parent\"><img src=\"https://colab.research.google.com/assets/colab-badge.svg\" alt=\"Open In Colab\"/></a>"
      ]
    },
    {
      "cell_type": "markdown",
      "metadata": {
        "id": "jAjZSd2q-Dkn"
      },
      "source": [
        "#Assignment 2"
      ]
    },
    {
      "cell_type": "markdown",
      "metadata": {
        "id": "5WsvDzUF-TPu"
      },
      "source": [
        "###Question 1\r\n",
        "\r\n",
        "You all are pilots, you have to land a plane, the altitude required for landing a plane is 1000ft, if it is less than that tell the pilot to land the plane, or it is more than that but less than 5000ft ask the pilot to \"come down to 1000ft\", else if it is more than 5000ft ask the pilot to \"go around and try later\""
      ]
    },
    {
      "cell_type": "code",
      "metadata": {
        "id": "oPbx3Q14-hlE"
      },
      "source": [
        "#variable assign\r\n",
        "pilot = 5000"
      ],
      "execution_count": 1,
      "outputs": []
    },
    {
      "cell_type": "code",
      "metadata": {
        "colab": {
          "base_uri": "https://localhost:8080/"
        },
        "id": "aU4qCd7L-n8Q",
        "outputId": "11107741-e8e9-4875-c948-f98feed0d3b6"
      },
      "source": [
        "#logic \r\n",
        "if pilot < 1000:\r\n",
        "  print(\"land the plane\")\r\n",
        "elif pilot > 1000 and pilot <= 5000:\r\n",
        "  print(\"come down to 1000ft\")\r\n",
        "else:\r\n",
        "  print(\"go around and try later\")"
      ],
      "execution_count": 2,
      "outputs": [
        {
          "output_type": "stream",
          "text": [
            "come down to 1000ft\n"
          ],
          "name": "stdout"
        }
      ]
    }
  ]
}